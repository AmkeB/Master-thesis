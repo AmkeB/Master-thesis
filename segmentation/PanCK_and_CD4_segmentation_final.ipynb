{
 "cells": [
  {
   "cell_type": "code",
   "execution_count": 1,
   "id": "391cca8e",
   "metadata": {
    "scrolled": true
   },
   "outputs": [
    {
     "name": "stdout",
     "output_type": "stream",
     "text": [
      "There are 4 registered models for 'StarDist2D':\n",
      "\n",
      "Name                  Alias(es)\n",
      "────                  ─────────\n",
      "'2D_versatile_fluo'   'Versatile (fluorescent nuclei)'\n",
      "'2D_versatile_he'     'Versatile (H&E nuclei)'\n",
      "'2D_paper_dsb2018'    'DSB 2018 (from StarDist 2D paper)'\n",
      "'2D_demo'             None\n",
      "Found model '2D_versatile_fluo' for 'StarDist2D'.\n",
      "Loading network weights from 'weights_best.h5'.\n",
      "Loading thresholds from 'thresholds.json'.\n",
      "Using default values: prob_thresh=0.479071, nms_thresh=0.3.\n",
      "[name: \"/device:CPU:0\"\n",
      "device_type: \"CPU\"\n",
      "memory_limit: 268435456\n",
      "locality {\n",
      "}\n",
      "incarnation: 18187075897435400635\n",
      ", name: \"/device:XLA_CPU:0\"\n",
      "device_type: \"XLA_CPU\"\n",
      "memory_limit: 17179869184\n",
      "locality {\n",
      "}\n",
      "incarnation: 2867814761121741734\n",
      "physical_device_desc: \"device: XLA_CPU device\"\n",
      ", name: \"/device:GPU:0\"\n",
      "device_type: \"GPU\"\n",
      "memory_limit: 2203949467\n",
      "locality {\n",
      "  bus_id: 1\n",
      "  links {\n",
      "  }\n",
      "}\n",
      "incarnation: 2195668724899029119\n",
      "physical_device_desc: \"device: 0, name: NVIDIA GeForce GTX 1050, pci bus id: 0000:01:00.0, compute capability: 6.1\"\n",
      ", name: \"/device:XLA_GPU:0\"\n",
      "device_type: \"XLA_GPU\"\n",
      "memory_limit: 17179869184\n",
      "locality {\n",
      "}\n",
      "incarnation: 14734243926852052281\n",
      "physical_device_desc: \"device: XLA_GPU device\"\n",
      "]\n",
      "WARNING:tensorflow:From C:\\Users\\049115\\AppData\\Local\\Temp\\ipykernel_52044\\4097469381.py:34: is_gpu_available (from tensorflow.python.framework.test_util) is deprecated and will be removed in a future version.\n",
      "Instructions for updating:\n",
      "Use `tf.config.list_physical_devices('GPU')` instead.\n"
     ]
    },
    {
     "data": {
      "text/plain": [
       "True"
      ]
     },
     "execution_count": 1,
     "metadata": {},
     "output_type": "execute_result"
    }
   ],
   "source": [
    "# Loading pre-trained segmentation model, just run it by \"Ctrl + Enter\"\n",
    "\n",
    "from stardist.models import StarDist2D \n",
    "\n",
    "# prints a list of available models \n",
    "StarDist2D.from_pretrained() \n",
    "\n",
    "# creates a pretrained model\n",
    "model = StarDist2D.from_pretrained('2D_versatile_fluo')\n",
    "\n",
    "from stardist.data import test_image_nuclei_2d\n",
    "from stardist.plot import render_label\n",
    "from csbdeep.utils import normalize\n",
    "from matplotlib import image\n",
    "import numpy as np\n",
    "from tifffile import imsave\n",
    "\n",
    "import matplotlib.pyplot as plt\n",
    "import time\n",
    "import numpy as np\n",
    "import os\n",
    "import cv2\n",
    "from os import listdir\n",
    "\n",
    "\n",
    "# Test if GPU is available\n",
    "os.environ[\"CUDA_VISIBLE_DEVICES\"] = '1'\n",
    "\n",
    "import tensorflow as tf\n",
    "\n",
    "from tensorflow.python.client import device_lib\n",
    "print(device_lib.list_local_devices())\n",
    "\n",
    "tf.test.is_gpu_available(cuda_only=True, min_cuda_compute_capability=(6,0))\n"
   ]
  },
  {
   "cell_type": "code",
   "execution_count": 38,
   "id": "a96f31d9",
   "metadata": {},
   "outputs": [],
   "source": [
    "# Pre-defined functions \n",
    "def getImgPrefix(myDir):\n",
    "    imgPrefix = [];\n",
    "    files = listdir(myDir)\n",
    "    theName = files[0]\n",
    "    str = theName.split('_frame')\n",
    "    imgPrefix = str[0]\n",
    "    if not imgPrefix:\n",
    "        print('[Info] ' 'Pls make sure your images are with keywords xxx_framexxxxx_ROIx')  \n",
    "    else:\n",
    "        print('[Info] ' 'Folder ' + myDir + ' with image prefix: ' + imgPrefix)\n",
    "        \n",
    "    return imgPrefix   \n",
    "    \n",
    "\n",
    "def getSegmentationUsingStardist(frames_to_process, ROIs_to_process, path_raw, path_seg, image_prefix,remove_bg=False):\n",
    "    \n",
    "    for frame in (frames_to_process):    \n",
    "        for ROI in (ROIs_to_process):   \n",
    "            \n",
    "            imgName = image_prefix + (\"_frame%05d_ROI%03d.tif\" % (frame, ROI))\n",
    "#             imgName = \"parts_ROI%03d.tif\" % ROI\n",
    "            \n",
    "            imgName2 = path_raw + '\\\\' + imgName\n",
    "            \n",
    "            isImgExist = os.path.exists(imgName2)\n",
    "        \n",
    "            if not isImgExist:\n",
    "                print('[Info] ' + imgName +' not generated yet ...')\n",
    "                break\n",
    "        \n",
    "            print('[Info] ' + imgName +' is generated!'); time.sleep(1)\n",
    "        \n",
    "            img = image.imread(imgName2)\n",
    "            print('[Info] ' + 'Segmenting ... ' + imgName)\n",
    "            \n",
    "            if remove_bg == True:\n",
    "                filterSize = (30, 30)\n",
    "                kernel = cv2.getStructuringElement(cv2.MORPH_RECT, filterSize)        \n",
    "                img = cv2.morphologyEx(img, cv2.MORPH_TOPHAT, kernel)\n",
    "            \n",
    "            #img = cv2.GaussianBlur(img, (21, 21), -1)\n",
    "        \n",
    "            t = time.time()\n",
    "            \n",
    "            imgHeight, imgWidth = img.shape; \n",
    "            labels, polys = model.predict_instances(normalize(img), n_tiles = (4,4))\n",
    "            \n",
    "            elapsed = time.time() - t; \n",
    "            centers = polys[\"points\"]  # [y, x]\n",
    "            temp = np.copy(centers[:, 0])\n",
    "            centers[:, 0] = centers[:, 1]\n",
    "            centers[:, 1] = temp\n",
    "#             np.savetxt(path_seg + '\\\\' + image_prefix + \"_frame%05d_ROI%03d.csv\" % (frame, ROI), centers, delimiter=\",\")\n",
    "            np.savetxt(path_seg + \"\\\\ROI%03d.csv\" %  ROI, centers, delimiter=\",\")\n",
    "\n",
    "            imsave(path_seg + \"\\\\\" + imgName, np.uint16(labels))  \n",
    "        \n",
    "            print('[Info] ' '%5d cells found.' % centers.shape[0])\n",
    "            print('[Info] ' + 'Segmentation and detected coordinates are saved into ' + path_seg)      \n",
    "\n",
    "            \n",
    "            print('[Info] ' 'Segmenting took %d seconds.' % (elapsed))\n",
    "   \n",
    "    "
   ]
  },
  {
   "cell_type": "code",
   "execution_count": 39,
   "id": "660b2a61",
   "metadata": {},
   "outputs": [
    {
     "name": "stdout",
     "output_type": "stream",
     "text": [
      "[Info] Folder Z:\\Data_and_Analysis\\Amke Bernaerts\\chapter4_thesis_image_analysis\\segmentation\\UFO_ROIs\\460nm with image prefix: step2_all_channels_050B_1000ms\n",
      "[Info] Folder Z:\\Data_and_Analysis\\Amke Bernaerts\\chapter4_thesis_image_analysis\\segmentation\\UFO_ROIs\\532nm with image prefix: step2_all_channels_100G_1000ms\n",
      "[Info] Folder Z:\\Data_and_Analysis\\Amke Bernaerts\\chapter4_thesis_image_analysis\\segmentation\\UFO_ROIs\\637nm with image prefix: step2_all_channels_070R_1000ms\n"
     ]
    }
   ],
   "source": [
    "# Configure all file names and folder names\n",
    "\n",
    "#path = r'D:\\Data\\Amke\\test_olddata'\n",
    "# path = r'D:\\Data\\Amke\\AB009\\step2_all_channels_20250319at133800'\n",
    "# path = r\"\\\\store.erasmusmc.nl\\department\\gene\\chien_data\\Lab\\Data_and_Analysis\\Amke Bernaerts\\AB010_test_run\"\n",
    "# path = \"D:\\Data\\Amke\\AB012\\step2 imaging all channels_20250507at121415\"\n",
    "# path = r\"Z:\\Data_and_Analysis\\Amke Bernaerts\\chapter4_thesis_image_analysis\\segmentation\\PARTS_ROIs\"\n",
    "path = r\"Z:\\Data_and_Analysis\\Amke Bernaerts\\chapter4_thesis_image_analysis\\segmentation\\UFO_ROIs\"\n",
    "\n",
    "path_460 = path + '\\\\460nm'\n",
    "path_532 = path + '\\\\532nm'\n",
    "path_637 = path + '\\\\637nm'\n",
    "\n",
    "path_460_seg = path + '\\\\460nm_seg_bg_removed'\n",
    "path_532_seg = path + '\\\\532nm_seg_bg_removed'\n",
    "path_637_seg = path + '\\\\637nm_seg_bg_removed'\n",
    "\n",
    "# path_results = path + '\\\\results_tagtest'\n",
    "path_460results = path + '\\\\results_460nm_bgrem'\n",
    "path_532results = path + '\\\\results_532nm_bgrem'\n",
    "path_640results = path + '\\\\results_637nm_bgrem'\n",
    "\n",
    "import os\n",
    "if not os.path.isdir(path_460_seg):\n",
    "    os.mkdir(path_460_seg)\n",
    "if not os.path.isdir(path_532_seg):\n",
    "    os.mkdir(path_532_seg)\n",
    "if not os.path.isdir(path_637_seg):\n",
    "    os.mkdir(path_637_seg)  \n",
    "if not os.path.isdir(path_460results):\n",
    "    os.mkdir(path_460results)   \n",
    "if not os.path.isdir(path_532results):\n",
    "    os.mkdir(path_532results)\n",
    "if not os.path.isdir(path_640results):\n",
    "    os.mkdir(path_640results)      \n",
    "    \n",
    "\n",
    "# Checking image prefix: if we are loading the right images from the right channel\n",
    "image_prefix_460 = getImgPrefix(path_460)\n",
    "image_prefix_532 = getImgPrefix(path_532)\n",
    "image_prefix_637 = getImgPrefix(path_637)"
   ]
  },
  {
   "cell_type": "code",
   "execution_count": 40,
   "id": "19190b30",
   "metadata": {},
   "outputs": [],
   "source": [
    "## define if try 1 image or do segmentation for all ROIs\n",
    "try_one_img = False\n",
    "\n",
    "if try_one_img == True:\n",
    "    ROI = [10]\n",
    "    ROIs_to_process = ROI\n",
    "    ROIs_637 = ROI\n",
    "    ROIs_460 = ROI\n",
    "    ROIs_532 = ROI\n",
    "else:\n",
    "#     ROI = np.arange(0, 11, 1)\n",
    "    ROI = [107,110,121]\n",
    "    ROIs_to_process = ROI\n",
    "    ROIs_637 = ROI\n",
    "    ROIs_460 = ROI\n",
    "    ROIs_532 = ROI\n",
    "    "
   ]
  },
  {
   "cell_type": "code",
   "execution_count": 41,
   "id": "f5c96d9f",
   "metadata": {
    "scrolled": true
   },
   "outputs": [
    {
     "name": "stdout",
     "output_type": "stream",
     "text": [
      "[Info] step2_all_channels_070R_1000ms_frame00000_ROI107.tif is generated!\n",
      "[Info] Segmenting ... step2_all_channels_070R_1000ms_frame00000_ROI107.tif\n"
     ]
    },
    {
     "name": "stderr",
     "output_type": "stream",
     "text": [
      "100%|██████████████████████████████████████████████████████████████████████████████████| 16/16 [00:06<00:00,  2.58it/s]\n"
     ]
    },
    {
     "name": "stdout",
     "output_type": "stream",
     "text": [
      "[Info] 23219 cells found.\n",
      "[Info] Segmentation and detected coordinates are saved into Z:\\Data_and_Analysis\\Amke Bernaerts\\chapter4_thesis_image_analysis\\segmentation\\UFO_ROIs\\637nm_seg_bg_removed\n",
      "[Info] Segmenting took 15 seconds.\n",
      "[Info] step2_all_channels_070R_1000ms_frame00000_ROI110.tif is generated!\n",
      "[Info] Segmenting ... step2_all_channels_070R_1000ms_frame00000_ROI110.tif\n"
     ]
    },
    {
     "name": "stderr",
     "output_type": "stream",
     "text": [
      "100%|██████████████████████████████████████████████████████████████████████████████████| 16/16 [00:03<00:00,  4.19it/s]\n"
     ]
    },
    {
     "name": "stdout",
     "output_type": "stream",
     "text": [
      "[Info] 24540 cells found.\n",
      "[Info] Segmentation and detected coordinates are saved into Z:\\Data_and_Analysis\\Amke Bernaerts\\chapter4_thesis_image_analysis\\segmentation\\UFO_ROIs\\637nm_seg_bg_removed\n",
      "[Info] Segmenting took 13 seconds.\n",
      "[Info] step2_all_channels_070R_1000ms_frame00000_ROI121.tif is generated!\n",
      "[Info] Segmenting ... step2_all_channels_070R_1000ms_frame00000_ROI121.tif\n"
     ]
    },
    {
     "name": "stderr",
     "output_type": "stream",
     "text": [
      "100%|██████████████████████████████████████████████████████████████████████████████████| 16/16 [00:03<00:00,  4.49it/s]\n"
     ]
    },
    {
     "name": "stdout",
     "output_type": "stream",
     "text": [
      "[Info] 17227 cells found.\n",
      "[Info] Segmentation and detected coordinates are saved into Z:\\Data_and_Analysis\\Amke Bernaerts\\chapter4_thesis_image_analysis\\segmentation\\UFO_ROIs\\637nm_seg_bg_removed\n",
      "[Info] Segmenting took 10 seconds.\n"
     ]
    }
   ],
   "source": [
    "# To process 637nm - nuclei of all cells \n",
    "\n",
    "frames_to_process = [0]\n",
    "# ROIs_to_process = np.arange(0, 253, 4)\n",
    "\n",
    "getSegmentationUsingStardist(frames_to_process, ROIs_to_process, path_637, path_637_seg, image_prefix_637,remove_bg=True)\n"
   ]
  },
  {
   "cell_type": "code",
   "execution_count": 42,
   "id": "cb214a63",
   "metadata": {},
   "outputs": [
    {
     "name": "stdout",
     "output_type": "stream",
     "text": [
      "[Info] step2_all_channels_100G_1000ms_frame00000_ROI107.tif is generated!\n",
      "[Info] Segmenting ... step2_all_channels_100G_1000ms_frame00000_ROI107.tif\n"
     ]
    },
    {
     "name": "stderr",
     "output_type": "stream",
     "text": [
      "100%|██████████████████████████████████████████████████████████████████████████████████| 16/16 [00:03<00:00,  4.58it/s]\n"
     ]
    },
    {
     "name": "stdout",
     "output_type": "stream",
     "text": [
      "[Info] 13896 cells found.\n",
      "[Info] Segmentation and detected coordinates are saved into Z:\\Data_and_Analysis\\Amke Bernaerts\\chapter4_thesis_image_analysis\\segmentation\\UFO_ROIs\\532nm_seg_bg_removed\n",
      "[Info] Segmenting took 7 seconds.\n",
      "[Info] step2_all_channels_100G_1000ms_frame00000_ROI110.tif is generated!\n",
      "[Info] Segmenting ... step2_all_channels_100G_1000ms_frame00000_ROI110.tif\n"
     ]
    },
    {
     "name": "stderr",
     "output_type": "stream",
     "text": [
      "100%|██████████████████████████████████████████████████████████████████████████████████| 16/16 [00:03<00:00,  4.36it/s]\n"
     ]
    },
    {
     "name": "stdout",
     "output_type": "stream",
     "text": [
      "[Info] 11430 cells found.\n",
      "[Info] Segmentation and detected coordinates are saved into Z:\\Data_and_Analysis\\Amke Bernaerts\\chapter4_thesis_image_analysis\\segmentation\\UFO_ROIs\\532nm_seg_bg_removed\n",
      "[Info] Segmenting took 7 seconds.\n",
      "[Info] step2_all_channels_100G_1000ms_frame00000_ROI121.tif is generated!\n",
      "[Info] Segmenting ... step2_all_channels_100G_1000ms_frame00000_ROI121.tif\n"
     ]
    },
    {
     "name": "stderr",
     "output_type": "stream",
     "text": [
      "100%|██████████████████████████████████████████████████████████████████████████████████| 16/16 [00:03<00:00,  4.58it/s]\n"
     ]
    },
    {
     "name": "stdout",
     "output_type": "stream",
     "text": [
      "[Info] 10343 cells found.\n",
      "[Info] Segmentation and detected coordinates are saved into Z:\\Data_and_Analysis\\Amke Bernaerts\\chapter4_thesis_image_analysis\\segmentation\\UFO_ROIs\\532nm_seg_bg_removed\n",
      "[Info] Segmenting took 6 seconds.\n"
     ]
    }
   ],
   "source": [
    "# To process 532nm - immune cell signal\n",
    "\n",
    "frames_to_process = [0]\n",
    "# ROIs_to_process = np.arange(0, 11, 1)\n",
    "# ROIs_to_process = [10]\n",
    "\n",
    "getSegmentationUsingStardist(frames_to_process, ROIs_to_process, path_532, path_532_seg, image_prefix_532,remove_bg=True)"
   ]
  },
  {
   "cell_type": "code",
   "execution_count": 43,
   "id": "5f09904f",
   "metadata": {},
   "outputs": [
    {
     "name": "stdout",
     "output_type": "stream",
     "text": [
      "[Info] step2_all_channels_050B_1000ms_frame00000_ROI107.tif is generated!\n",
      "[Info] Segmenting ... step2_all_channels_050B_1000ms_frame00000_ROI107.tif\n"
     ]
    },
    {
     "name": "stderr",
     "output_type": "stream",
     "text": [
      "100%|██████████████████████████████████████████████████████████████████████████████████| 16/16 [00:03<00:00,  4.58it/s]\n"
     ]
    },
    {
     "name": "stdout",
     "output_type": "stream",
     "text": [
      "[Info] 13708 cells found.\n",
      "[Info] Segmentation and detected coordinates are saved into Z:\\Data_and_Analysis\\Amke Bernaerts\\chapter4_thesis_image_analysis\\segmentation\\UFO_ROIs\\460nm_seg_bg_removed\n",
      "[Info] Segmenting took 7 seconds.\n",
      "[Info] step2_all_channels_050B_1000ms_frame00000_ROI110.tif is generated!\n",
      "[Info] Segmenting ... step2_all_channels_050B_1000ms_frame00000_ROI110.tif\n"
     ]
    },
    {
     "name": "stderr",
     "output_type": "stream",
     "text": [
      "100%|██████████████████████████████████████████████████████████████████████████████████| 16/16 [00:03<00:00,  4.52it/s]\n"
     ]
    },
    {
     "name": "stdout",
     "output_type": "stream",
     "text": [
      "[Info]  7891 cells found.\n",
      "[Info] Segmentation and detected coordinates are saved into Z:\\Data_and_Analysis\\Amke Bernaerts\\chapter4_thesis_image_analysis\\segmentation\\UFO_ROIs\\460nm_seg_bg_removed\n",
      "[Info] Segmenting took 6 seconds.\n",
      "[Info] step2_all_channels_050B_1000ms_frame00000_ROI121.tif is generated!\n",
      "[Info] Segmenting ... step2_all_channels_050B_1000ms_frame00000_ROI121.tif\n"
     ]
    },
    {
     "name": "stderr",
     "output_type": "stream",
     "text": [
      "100%|██████████████████████████████████████████████████████████████████████████████████| 16/16 [00:03<00:00,  4.62it/s]\n"
     ]
    },
    {
     "name": "stdout",
     "output_type": "stream",
     "text": [
      "[Info]  2748 cells found.\n",
      "[Info] Segmentation and detected coordinates are saved into Z:\\Data_and_Analysis\\Amke Bernaerts\\chapter4_thesis_image_analysis\\segmentation\\UFO_ROIs\\460nm_seg_bg_removed\n",
      "[Info] Segmenting took 4 seconds.\n"
     ]
    }
   ],
   "source": [
    "# To process 460nm - tumor signal\n",
    "\n",
    "frames_to_process = [0]\n",
    "# ROIs_to_process =  np.arange(0, 11, 1)\n",
    "\n",
    "getSegmentationUsingStardist(frames_to_process, ROIs_to_process, path_460, path_460_seg, image_prefix_460,remove_bg=True)"
   ]
  },
  {
   "cell_type": "code",
   "execution_count": 45,
   "id": "51323f30",
   "metadata": {},
   "outputs": [
    {
     "name": "stdout",
     "output_type": "stream",
     "text": [
      "Z:\\Data_and_Analysis\\Amke Bernaerts\\chapter4_thesis_image_analysis\\segmentation\\UFO_ROIs\\637nm_seg_bg_removed\\ROI107.csv\n",
      "Z:\\Data_and_Analysis\\Amke Bernaerts\\chapter4_thesis_image_analysis\\segmentation\\UFO_ROIs\\637nm_seg_bg_removed\\ROI110.csv\n",
      "Z:\\Data_and_Analysis\\Amke Bernaerts\\chapter4_thesis_image_analysis\\segmentation\\UFO_ROIs\\637nm_seg_bg_removed\\ROI121.csv\n"
     ]
    }
   ],
   "source": [
    "from skimage.measure import label, regionprops, regionprops_table\n",
    "from skimage import morphology\n",
    "import csv\n",
    "import numpy\n",
    "\n",
    "# ROIs_637 = np.arange(0, 11, 1)\n",
    "temp_imgs = []\n",
    "frame = 0\n",
    "# ROI_637 = 0\n",
    "\n",
    "for ROI_637 in ROIs_637:\n",
    "\n",
    "#     csvname = path_637_seg + '\\\\' + image_prefix_637 + (\"_frame%05d_ROI%03d.csv\" % (frame, ROI_637))\n",
    "    csvname = path_637_seg + \"\\\\ROI%03d.csv\" % ROI_637\n",
    "    print(csvname)\n",
    "    \n",
    "    coordinates_all_nuclei = np.genfromtxt(csvname, delimiter = ',')\n",
    "\n",
    "#     temp_img = np.zeros((1164, 1164))\n",
    "    temp_img = np.zeros((5120, 5120))\n",
    "    \n",
    "    for i in range(0, coordinates_all_nuclei.shape[0]):\n",
    "        x = int(coordinates_all_nuclei[i, 0])\n",
    "        y = int(coordinates_all_nuclei[i, 1])\n",
    "        temp_img[y, x] = 1\n",
    "    \n",
    "    temp_imgs.append(temp_img)"
   ]
  },
  {
   "cell_type": "code",
   "execution_count": 49,
   "id": "24032652",
   "metadata": {},
   "outputs": [],
   "source": [
    "##now this dilates both tumor and immune channel\n",
    "\n",
    "# Final step: organize all segmented channels  \n",
    "\n",
    "# To load immune and tumor cell channels, and try to remove overlapping regions, for avoiding tagging cotamination\n",
    "\n",
    "dilate_size = 20\n",
    "dilate_size_smaller = 10\n",
    "\n",
    "# to load immune cell channel (532nm)\n",
    "# ROIs_532 = np.arange(0, 11, 1)\n",
    "seg_532s = []\n",
    "seg_532s_undilated = []\n",
    "seg_460s_undilated = []\n",
    "\n",
    "for ROI_532 in ROIs_532:\n",
    "    seg_532 = image.imread(path_532_seg + '\\\\' + image_prefix_532 + (\"_frame%05d_ROI%03d.tif\" % (frame, ROI_532)))\n",
    "#     seg_532 = image.imread(path_532_seg + \"\\\\parts_ROI%03d.tif\" % ROI_532)\n",
    "    \n",
    "    #small dilation\n",
    "    kernel = np.ones((dilate_size_smaller, dilate_size_smaller), np.uint16) \n",
    "    seg_532_di_small = cv2.dilate(seg_532, kernel, iterations=1) \n",
    "    seg_532_small = seg_532_di_small\n",
    "    seg_532s_undilated.append(seg_532_small)\n",
    "\n",
    "    # dilate the seg_532\n",
    "    kernel = np.ones((dilate_size, dilate_size), np.uint16) \n",
    "    seg_532_di = cv2.dilate(seg_532, kernel, iterations=1) \n",
    "    seg_532 = seg_532_di\n",
    "\n",
    "    seg_532s.append(seg_532)\n",
    "\n",
    "# to load cancer cell channel (460nm)\n",
    "# ROIs_460 = np.arange(0, 11, 1)\n",
    "seg_460s = []\n",
    "\n",
    "for ROI_460 in ROIs_460:\n",
    "#     ROI_460 = 77\n",
    "    # print(ROI_460)\n",
    "    seg_460 = image.imread(path_460_seg + '\\\\' + image_prefix_460 + (\"_frame%05d_ROI%03d.tif\" % (frame, ROI_460)))\n",
    "#     seg_460 = image.imread(path_460_seg + \"\\\\parts_ROI%03d.tif\" % ROI_460)\n",
    "    \n",
    "    #small dilation\n",
    "    kernel = np.ones((dilate_size_smaller, dilate_size_smaller), np.uint16) \n",
    "    seg_460_di_small = cv2.dilate(seg_460, kernel, iterations=1) \n",
    "    seg_460_small = seg_460_di_small\n",
    "    seg_460s_undilated.append(seg_460_small)\n",
    "    \n",
    "    seg_460s_undilated.append(seg_460)\n",
    "\n",
    "    # dilate the seg_532\n",
    "    kernel = np.ones((dilate_size, dilate_size), np.uint16) \n",
    "    seg_460_di = cv2.dilate(seg_460, kernel, iterations=1) \n",
    "    seg_460 = seg_460_di\n",
    "\n",
    "    seg_460s.append(seg_460)\n",
    "\n",
    "# to remove overlapping regions\n",
    "temp_seg = (seg_532_di > 0) + (seg_460_di > 0)\n",
    "temp_seg = (temp_seg == 2)\n",
    "\n",
    "seg_532 = seg_532 - temp_seg\n",
    "seg_460 = seg_460 - temp_seg\n"
   ]
  },
  {
   "cell_type": "code",
   "execution_count": null,
   "id": "87391b54",
   "metadata": {},
   "outputs": [],
   "source": [
    "# original code of the function below was:\n",
    "# #check if immune cells overlap with tumor cells, if yes, don't use for tagging\n",
    "# for i in range(len(ROIs_532)):\n",
    "#     img_immune = seg_532s_undilated[i]\n",
    "#     img_immune_binary = img_immune>0\n",
    "#     img_tumor = seg_460s_undilated[i]\n",
    "#     img_tumor_binary = img_tumor>0\n",
    "#     intersect = img_tumor_binary*img_immune_binary\n",
    "#     plt.imshow(img_tumor_binary)\n",
    "#     plt.title('tumor')\n",
    "#     plt.show()\n",
    "#     plt.imshow(img_immune_binary)\n",
    "#     plt.title('immune')\n",
    "#     plt.show()\n",
    "#     plt.imshow(intersect)\n",
    "#     plt.title('intersect')\n",
    "#     plt.show()\n",
    "#     only_immune_signal = np.zeros([len(intersect),len(intersect)])\n",
    "#     for k in range(len(intersect)):\n",
    "#         for j in range(len(intersect)):\n",
    "#             if img_immune_binary[k,j] == True and intersect[k,j] == False:\n",
    "#                 only_immune_signal[k,j] = 1\n",
    "            \n",
    "# #     only_immune_signal = img_immune_binary - intersect\n",
    "#     only_immune_signals.append(only_immune_signal)\n",
    "#     plt.imshow(only_immune_signal)\n",
    "#     plt.title('difference')\n",
    "#     plt.show()\n",
    "    \n",
    "#     ROI = ROIs_532[i]\n",
    "#     coord_file = path_532_seg + \"\\\\ROI%03d.csv\" % ROI\n",
    "#     print(coord_file)\n",
    "#     seg_532_coord = np.genfromtxt(coord_file, delimiter = ',')\n",
    "#     print('all immune coords',len(seg_532_coord))\n",
    "#     for c in range(len(seg_532_coord)):\n",
    "#         x = int(seg_532_coord[c][0])\n",
    "#         y = int(seg_532_coord[c][1])\n",
    "#         if only_immune_signal[y,x] > 0:  #still ask li if this is correct, number makes most sense but why y,x?\n",
    "#             only_immune_coords.append([x,y])\n",
    "    \n",
    "# print('only immune coords',len(only_immune_coords))\n",
    "# # np.savetxt(\"X:\\Amke Bernaerts\\AB010_test_run\\only_immune_coords.csv\",only_immune_coords,delimiter=\",\")\n"
   ]
  },
  {
   "cell_type": "code",
   "execution_count": 30,
   "id": "8255116d",
   "metadata": {},
   "outputs": [],
   "source": [
    "def find_overlapping_tumor_immune_cells(path1,ROIs,seg1_undilated,seg2_undilated,plot=False,save=False):\n",
    "    #for immune coordinates: seg1 = seg_532s_undilated and seg2 = seg_460s_undilated\n",
    "    # and path1 = path_532_seg\n",
    "    \n",
    "    final_masks = []\n",
    "    final_coords = []\n",
    "    \n",
    "    for i in range(len(ROIs)):\n",
    "        img_immune = seg1_undilated[i]\n",
    "        img_immune_binary = img_immune>0\n",
    "        img_tumor = seg2_undilated[i]\n",
    "        img_tumor_binary = img_tumor>0\n",
    "        intersect = img_tumor_binary*img_immune_binary\n",
    "        if plot == True:\n",
    "            plt.imshow(img_tumor_binary)\n",
    "            plt.title('tumor')\n",
    "            plt.show()\n",
    "            plt.imshow(img_immune_binary)\n",
    "            plt.title('immune')\n",
    "            plt.show()\n",
    "            plt.imshow(intersect)\n",
    "            plt.title('intersect')\n",
    "            plt.show()\n",
    "\n",
    "        only_immune_signal = np.zeros([len(intersect),len(intersect)])\n",
    "        for k in range(len(intersect)):\n",
    "            for j in range(len(intersect)):\n",
    "                if img_immune_binary[k,j] == True and intersect[k,j] == False:\n",
    "                    only_immune_signal[k,j] = 1\n",
    "\n",
    "    #     only_immune_signal = img_immune_binary - intersect\n",
    "        final_masks.append(only_immune_signal)\n",
    "        if plot == True:\n",
    "            plt.imshow(only_immune_signal)\n",
    "            plt.title('difference')\n",
    "            plt.show()\n",
    "\n",
    "        ROI = ROIs[i]\n",
    "        coord_file = path1 + \"\\\\ROI%03d.csv\" % ROI\n",
    "#         print(coord_file)\n",
    "        seg_532_coord = np.genfromtxt(coord_file, delimiter = ',')\n",
    "        print('number of coordinates before removing overlap is ',len(seg_532_coord))\n",
    "        for c in range(len(seg_532_coord)):\n",
    "            x = int(seg_532_coord[c][0])\n",
    "            y = int(seg_532_coord[c][1])\n",
    "            if only_immune_signal[y,x] > 0:  #still ask li if this is correct, number makes most sense but why y,x?\n",
    "                final_coords.append([x,y])\n",
    "    \n",
    "    print('number of coordinates after removing overlap is ',len(final_coords))\n",
    "    if save == True:\n",
    "        np.savetxt(\"X:\\Amke Bernaerts\\AB010_test_run\\only_immune_coords.csv\",final_coords,delimiter=\",\")\n",
    "    \n",
    "    return final_masks"
   ]
  },
  {
   "cell_type": "code",
   "execution_count": 50,
   "id": "f30333a0",
   "metadata": {},
   "outputs": [
    {
     "name": "stdout",
     "output_type": "stream",
     "text": [
      "22063\n",
      "(9808, 3)\n",
      "22063\n",
      "(9999, 3)\n",
      "22063\n",
      "(8239, 3)\n"
     ]
    }
   ],
   "source": [
    "# to get Galvo tagging coordinates from 532nm\n",
    "# summary of what this code does:\n",
    "# checks if immune cells don't overlap with tumor cells (to get rid of wrongly segmented immune cells)\n",
    "# check if the immune cell segmentation overlaps with a nucleus, only then keep tagging coordinate\n",
    "\n",
    "from glob import glob\n",
    "\n",
    "parts_pixelsize = 1.376 #um/pixel\n",
    "ufo_pixelsize = 0.31295 #um/pixel\n",
    "scaling_factor = parts_pixelsize/ufo_pixelsize\n",
    "boundary = 100 #only tag cells that are at least this amount away from the edge (tagging in middle is more accurate)\n",
    "img_size = 5120 #parts image size=1164\n",
    "\n",
    "# ROIs_532 = np.arange(0, 11, 1)\n",
    "# ROIs_532 = [10]\n",
    "\n",
    "\n",
    "# #check if immune cells overlap with tumor cells, if yes, don't use for tagging\n",
    "# final_masks = find_overlapping_tumor_immune_cells(path_532_seg,ROIs_532,seg_532s_undilated,seg_460s_undilated,plot=True)\n",
    "# print(final_masks)\n",
    "# check overlap with nuclei segmentation    \n",
    "for i in range(len(temp_imgs)):\n",
    "    temp_img = temp_imgs[i]\n",
    "    seg_532 = seg_532s[i]\n",
    "    ROI_532 = ROIs_532[i]\n",
    "    \n",
    "    \n",
    "    img = temp_img*np.array(seg_532)\n",
    "#     img = temp_img*np.array(final_masks[i])\n",
    "    \n",
    "    #imsave(path + '\\\\' 'testa.tif', img);\n",
    "    \n",
    "    L = label(img > 0)\n",
    "    regions = regionprops(L)  #ask li about these two lines >> it only finds 1, what went wrong?\n",
    "    \n",
    "    coordinates_532 = np.array([[0, 0, 0, 0]])\n",
    "    coordinates_532_ufo = np.array([[0, 0, 0, 0]])\n",
    "    counter = 0\n",
    "    for props in regions:\n",
    "        y0, x0 = props.centroid\n",
    "        if y0 > boundary and y0 < (img_size-boundary) and x0 > boundary and x0 < (img_size-boundary):\n",
    "#             if [x0,y0] in only_immune_coords:\n",
    "#             if x0 in only_immune_coords_x: #and y0 in only_immune_coords_y[np.where(only_immune_coords_x==x0)]:\n",
    "#                 indices = np.where(only_immune_coords_x==x0)\n",
    "# #                 print('indices',indices)\n",
    "#                 y_coords_at_x = []\n",
    "#                 for index in indices[0]:\n",
    "# #                     print(index)\n",
    "#                     y_coords_at_x.append(only_immune_coords_y[index])\n",
    "#                 if y0 in y_coords_at_x:\n",
    "#             print(x0,y0)\n",
    "            new_row = np.array([counter, int(x0), int(y0), 2000])\n",
    "            #print(new_row)\n",
    "            coordinates_532 = np.append(coordinates_532, [new_row], axis=0)\n",
    "            new_row_ufo = np.array([counter,int(x0*scaling_factor),int(y0*scaling_factor),2000])\n",
    "            coordinates_532_ufo = np.append(coordinates_532_ufo, [new_row_ufo], axis=0)\n",
    "            counter += 1 \n",
    "        \n",
    "    N = 10000\n",
    "    \n",
    "    coordinates_532_tag = coordinates_532[1:min(N, coordinates_532.shape[0]), 1:4]\n",
    "    coordinates_532_imageJ = coordinates_532[1:min(N, coordinates_532.shape[0]), 0:3]\n",
    "    \n",
    "#     coordinates_532_tag_ufo = (parts_pixelsize/ufo_pixelsize)*coordinates_532[1:min(N, coordinates_532.shape[0]), 1:4]\n",
    "#     coordinates_532_imageJ_ufo = (parts_pixelsize/ufo_pixelsize)*coordinates_532[1:min(N, coordinates_532.shape[0]), 0:3]\n",
    "    coordinates_532_tag_ufo = coordinates_532_ufo[1:min(N, coordinates_532_ufo.shape[0]), 1:4]\n",
    "    coordinates_532_imageJ_ufo = coordinates_532_ufo[1:min(N, coordinates_532_ufo.shape[0]), 0:3]\n",
    "    \n",
    "    print(np.max(coordinates_532_tag_ufo))\n",
    "    print(np.shape(coordinates_532_tag_ufo))\n",
    "#     np.savetxt(path_532results + '\\\\immune' + \"_frame%05d_ROI%03d_CS%05d.csv\" % (frame, ROI_532, min(N, coordinates_532_tag.shape[0])), coordinates_532_tag, delimiter=\",\")    \n",
    "    np.savetxt(path_532results + '\\\\immune' + \"_frame%05d_ROI%03d_ImageJ.csv\" % (frame, ROI_532), coordinates_532_imageJ, delimiter=\",\") "
   ]
  },
  {
   "cell_type": "code",
   "execution_count": 36,
   "id": "14f5c6bc",
   "metadata": {},
   "outputs": [],
   "source": [
    "def get_overlap(img1,img2): # task: 'intersect' or 'setdiff'\n",
    "        #img1 = tumor dilated\n",
    "        #img2 - immune dilated\n",
    "        \n",
    "    intersect = img1*img2\n",
    "    img = img2-intersect\n",
    "    return intersect\n",
    "            "
   ]
  },
  {
   "cell_type": "code",
   "execution_count": 52,
   "id": "90909348",
   "metadata": {},
   "outputs": [],
   "source": [
    "# to get Galvo tagging coordinates from 460nm\n",
    "# ROIs_460 = np.arange(0, 11, 1)\n",
    "ROIs_460 = [107,110,121]\n",
    "\n",
    "# final_masks = find_overlapping_tumor_immune_cells(path_460_seg,ROIs_460,seg_460s_undilated,seg_532s_undilated,plot=False)\n",
    "\n",
    "for i in range(len(temp_imgs)):\n",
    "    temp_img = temp_imgs[i]\n",
    "    seg_460 = seg_460s[i]\n",
    "    ROI_460 = ROIs_460[i]\n",
    "    \n",
    "\n",
    "    img = temp_img*np.array(seg_460)\n",
    "#     img = temp_img*np.array(final_masks[i])\n",
    "\n",
    "    #imsave(path + '\\\\' 'testb.tif', img);\n",
    "\n",
    "    L = label(img > 0)\n",
    "    regions = regionprops(L)\n",
    "\n",
    "    coordinates_460 = np.array([[0, 0, 0, 0]])\n",
    "    coordinates_460_ufo = np.array([[0, 0, 0, 0]])\n",
    "    counter = 0\n",
    "    for props in regions:\n",
    "        y0, x0 = props.centroid\n",
    "        if y0 > boundary and y0 < (img_size-boundary) and x0 > boundary and x0 < (img_size-boundary):\n",
    "            new_row = np.array([counter, x0, y0, 2000])\n",
    "            #print(new_row)\n",
    "            coordinates_460 = np.append(coordinates_460, [new_row], axis=0)\n",
    "            new_row_ufo = np.array([counter,int(x0*scaling_factor),int(y0*scaling_factor),2000])\n",
    "            coordinates_460_ufo = np.append(coordinates_460_ufo, [new_row_ufo], axis=0)\n",
    "            counter += 1\n",
    "\n",
    "    N = 10000\n",
    "\n",
    "    coordinates_460_tag = coordinates_460[1:min(N,coordinates_460.shape[0]), 1:4]\n",
    "    coordinates_460_imageJ = coordinates_460[1:min(N,coordinates_460.shape[0]), 0:3]\n",
    "    \n",
    "    coordinates_460_tag_ufo = coordinates_460_ufo[1:min(N, coordinates_460_ufo.shape[0]), 1:4]\n",
    "    coordinates_460_imageJ_ufo = coordinates_460_ufo[1:min(N, coordinates_460_ufo.shape[0]), 0:3]\n",
    "    \n",
    "#     np.savetxt(path_460results + '\\\\tumor' + \"_frame%05d_ROI%03d_CS%05d.csv\" % (frame, ROI_460, min(N, coordinates_460_tag.shape[0])), coordinates_460_tag, delimiter=\",\") \n",
    "    np.savetxt(path_460results + '\\\\tumor' + \"_frame%05d_ROI%03d_ImageJ.csv\" % (frame, ROI_460), coordinates_460_imageJ, delimiter=\",\") \n",
    "\n"
   ]
  },
  {
   "cell_type": "code",
   "execution_count": null,
   "id": "24070f9c-b54f-429e-8bfb-ef2b0218c54d",
   "metadata": {},
   "outputs": [],
   "source": [
    "# to get Galvo tagging coordinates from 460nm - adjusted\n",
    "ROIs_460 = np.arange(0, 11, 1)\n",
    "\n",
    "ufo_path = r\"\\\\store.erasmusmc.nl\\department\\gene\\chien_data\\Lab\\Data_and_Analysis\\Amke Bernaerts\\AB009_insituFUNseq_washing_optimization\\Raw data\\AB009\\step2_imaging_and_segmentation_20250319at133800\\460nm_renamed\"\n",
    "ufo_files = glob(ufo_path+\"\\\\*.tif\")\n",
    "ufo_files.sort()\n",
    "\n",
    "for i in range(len(temp_imgs)):\n",
    "    ufo_img = cv2.imread(ufo_files[i],cv2.IMREAD_UNCHANGED)\n",
    "    \n",
    "    temp_img = temp_imgs[i]\n",
    "    seg_460 = seg_460s[i]\n",
    "    ROI_460 = ROIs_460[i]\n",
    "\n",
    "    img = temp_img*np.array(seg_460)\n",
    "\n",
    "    #imsave(path + '\\\\' 'testb.tif', img);\n",
    "\n",
    "    L = label(img > 0)\n",
    "    regions = regionprops(L)\n",
    "\n",
    "    coordinates_460 = np.array([[0, 0, 0, 0]])\n",
    "    counter = 0\n",
    "    for props in regions:\n",
    "        y0, x0 = props.centroid\n",
    "        ## here: only store the coordinates in the center of the image (e.g. 200 pixels from edge)\n",
    "        new_row = np.array([counter, x0, y0, 2000])\n",
    "        #print(new_row)\n",
    "        coordinates_460 = np.append(coordinates_460, [new_row], axis=0)\n",
    "        counter += 1\n",
    "\n",
    "    N = 200\n",
    "\n",
    "    coordinates_460_tag = coordinates_460[1:min(N,coordinates_460.shape[0]), 1:4]\n",
    "    coordinates_460_imageJ = coordinates_460[1:min(N,coordinates_460.shape[0]), 0:3]\n",
    "    np.savetxt(path_460results + '\\\\tumor' + \"_frame%05d_ROI%03d_CS%05d.csv\" % (frame, ROI_460, min(N, coordinates_460_tag.shape[0])), coordinates_460_tag, delimiter=\",\") \n",
    "    np.savetxt(path_460results + '\\\\tumor' + \"_frame%05d_ROI%03d_ImageJ.csv\" % (frame, ROI_460), coordinates_460_imageJ, delimiter=\",\") \n"
   ]
  },
  {
   "cell_type": "code",
   "execution_count": 17,
   "id": "941c7d92",
   "metadata": {},
   "outputs": [
    {
     "name": "stdout",
     "output_type": "stream",
     "text": [
      "(72, 3)\n"
     ]
    }
   ],
   "source": [
    "print(coordinates_460_tag.shape)"
   ]
  },
  {
   "cell_type": "code",
   "execution_count": 73,
   "id": "2afc9b1d",
   "metadata": {
    "scrolled": true
   },
   "outputs": [],
   "source": [
    "# If you want to do DMD tagging\n",
    "\n",
    "# to get DMD tagging mask for 532nm, using nuclei-signal * seg-532\n",
    "ROI_637 = 33\n",
    "seg_637 = image.imread(path_637_seg + '\\\\' + image_prefix_637 + (\"_frame%05d_ROI%03d.tif\" % (frame, ROI_637)))\n",
    "\n",
    "DMD_mask_532 = (seg_532 > 0)*(seg_637 >0)\n",
    "DMD_mask_532 = morphology.remove_small_objects(DMD_mask_532, min_size=100, connectivity=4)\n",
    "imsave(path_results + '\\\\DMD_mask_immune' + \"_frame%05d_ROI%03d.tif\" % (frame, ROI_532), DMD_mask_532);\n",
    "\n",
    "DMD_mask_460 = (seg_460 > 0)*(seg_637 >0)\n",
    "DMD_mask_460 = morphology.remove_small_objects(DMD_mask_460, min_size=100, connectivity=4)\n",
    "imsave(path_results + '\\\\DMD_mask_tumor' + \"_frame%05d_ROI%03d.tif\" % (frame, ROI_460), DMD_mask_460);"
   ]
  },
  {
   "cell_type": "code",
   "execution_count": 32,
   "id": "2bc6124d",
   "metadata": {},
   "outputs": [
    {
     "name": "stdout",
     "output_type": "stream",
     "text": [
      "D:\\Data\\Amke\\AB009\\step2_all_channels_20250319at133800\\637nm_seg\\step2_all_channels_070R_1000ms_frame00000_ROI076.csv\n"
     ]
    }
   ],
   "source": [
    "# Get non-tumor regions\n",
    "\n",
    "# to get Galvo tagging coordinates from 460nm\n",
    "\n",
    "csvname = path_637_seg + '\\\\' + image_prefix_637 + (\"_frame%05d_ROI%03d.csv\" % (frame, ROI_637))\n",
    "print(csvname)\n",
    "                                    \n",
    "# to load cancer cell channel (460nm)\n",
    "ROI_460 = 77\n",
    "seg_460 = image.imread(path_460_seg + '\\\\' + image_prefix_460 + (\"_frame%05d_ROI%03d.tif\" % (frame, ROI_460)))\n",
    "\n",
    "# dilate the seg_532\n",
    "dilate_size = 200\n",
    "\n",
    "kernel = np.ones((dilate_size, dilate_size), np.uint16) \n",
    "seg_460_di = cv2.dilate(seg_460, kernel, iterations=1) \n",
    "seg_460 = seg_460_di > 0   \n",
    "\n",
    "#imsave(path + '\\\\' 'testtest.tif', seg_460);\n",
    "\n",
    "coordinates_all_nuclei = np.genfromtxt(csvname, delimiter = ',')\n",
    "\n",
    "coordinates_460 = np.array([[0, 0, 0, 0]])\n",
    "counter = 0\n",
    "\n",
    "for i in range(0, coordinates_all_nuclei.shape[0]):\n",
    "    x = int(coordinates_all_nuclei[i, 0])\n",
    "    y = int(coordinates_all_nuclei[i, 1])\n",
    "    new_row = np.array([counter, x, y, 2000])\n",
    "    \n",
    "    if seg_460[y, x] > 0:\n",
    "        continue\n",
    "        \n",
    "    coordinates_460 = np.append(coordinates_460, [new_row], axis=0)\n",
    "    counter += 1 \n",
    "        \n",
    "N = 200\n",
    "\n",
    "coordinates_460_tag = coordinates_460[1:min(N,coordinates_460.shape[0]), 1:4]\n",
    "coordinates_460_imageJ = coordinates_460[1:min(N,coordinates_460.shape[0]), 0:3]\n",
    "np.savetxt(path_results + '\\\\nontumor' + \"_frame%05d_ROI%03d_CS%05d.csv\" % (frame, ROI_460, min(N, coordinates_460.shape[0])), coordinates_460_tag, delimiter=\",\") \n",
    "np.savetxt(path_results + '\\\\nontumor' + \"_frame%05d_ROI%03d_ImageJ.csv\" % (frame, ROI_460), coordinates_460_imageJ, delimiter=\",\") "
   ]
  }
 ],
 "metadata": {
  "kernelspec": {
   "display_name": "Python 3 (ipykernel)",
   "language": "python",
   "name": "python3"
  },
  "language_info": {
   "codemirror_mode": {
    "name": "ipython",
    "version": 3
   },
   "file_extension": ".py",
   "mimetype": "text/x-python",
   "name": "python",
   "nbconvert_exporter": "python",
   "pygments_lexer": "ipython3",
   "version": "3.7.16"
  }
 },
 "nbformat": 4,
 "nbformat_minor": 5
}
